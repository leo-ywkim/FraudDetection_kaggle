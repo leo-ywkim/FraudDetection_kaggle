{
 "cells": [
  {
   "cell_type": "code",
   "execution_count": 14,
   "metadata": {},
   "outputs": [],
   "source": [
    "import pandas as pd\n",
    "import numpy as np\n",
    "from sklearn.preprocessing import LabelEncoder\n",
    "from sklearn.ensemble import RandomForestClassifier\n",
    "from sklearn.model_selection import train_test_split\n",
    "from sklearn.model_selection import KFold\n",
    "#!pip install lightgbm\n",
    "import lightgbm as lgb\n",
    "import calendar\n",
    "\n",
    "# 100 개 열 보이기\n",
    "pd.set_option('display.max_row', 100)\n",
    "pd.set_option('display.max_columns', 100)\n",
    "\n",
    "from sklearn.preprocessing import StandardScaler\n",
    "from sklearn.feature_selection import  RFECV"
   ]
  },
  {
   "cell_type": "code",
   "execution_count": 15,
   "metadata": {},
   "outputs": [],
   "source": [
    "df_lgbm = pd.read_csv(\"result_1208_03_0_93827.csv\")\n",
    "df_xgb = pd.read_csv(\"result_1209_05_xgb_ens_1.csv\")\n",
    "df_cat = pd.read_csv(\"result_1209_07_cat_ens.csv\")"
   ]
  },
  {
   "cell_type": "code",
   "execution_count": 18,
   "metadata": {},
   "outputs": [],
   "source": [
    "df_lgbm_1 = pd.read_csv(\"result_1208_03_0_93827.csv\")\n",
    "df_lgbm_2 = pd.read_csv(\"result_1209_02_093728.csv\")"
   ]
  },
  {
   "cell_type": "code",
   "execution_count": 19,
   "metadata": {},
   "outputs": [],
   "source": [
    "def Ensemble_for_2(df1, df2, scale, power):\n",
    "    ens = pd.DataFrame()\n",
    "    ens[\"index\"]= df1[\"index\"] #두 데이터프레임이 index순서가  같아서 편의상 이렇게 썼고, 다르면 다른방식으로 해주세요~ \n",
    "    ens[\"Fraud\"] = (scale * df1[\"Fraud\"]**power + (1-scale) * df2[\"Fraud\"] **power)**(1/power)\n",
    "    return ens"
   ]
  },
  {
   "cell_type": "code",
   "execution_count": 16,
   "metadata": {},
   "outputs": [],
   "source": [
    "def Ensemble(df1, df2, df3):\n",
    "    ens = pd.DataFrame()\n",
    "    ens[\"index\"]= df1[\"index\"] #두 데이터프레임이 index순서가  같아서 편의상 이렇게 썼고, 다르면 다른방식으로 해주세요~ \n",
    "    ens['Fraud'] = (0.8*df1['Fraud']**2 + 0.1*df2['Fraud']**2 + 0.1*df3['Fraud']**2)**(1/2)\n",
    "    return ens"
   ]
  },
  {
   "cell_type": "code",
   "execution_count": 17,
   "metadata": {},
   "outputs": [],
   "source": [
    "Ensemble(df_lgbm,df_xgb,df_cat).to_csv(\"Mean_Ensemble_1209_5.csv\", index =False) #가중치평균"
   ]
  },
  {
   "cell_type": "code",
   "execution_count": 20,
   "metadata": {},
   "outputs": [],
   "source": [
    "Ensemble_for_2(df_lgbm_1,df_lgbm_2,0.8, 2).to_csv(\"Mean_Ensemble_1209_6.csv\", index =False) #가중치평균"
   ]
  },
  {
   "cell_type": "code",
   "execution_count": null,
   "metadata": {},
   "outputs": [],
   "source": []
  }
 ],
 "metadata": {
  "interpreter": {
   "hash": "81ab309234f4a0936d752f98e79b9de7718bdfe1cca3eac2614b37b35b52223c"
  },
  "kernelspec": {
   "display_name": "Python 3.9.9 64-bit (windows store)",
   "language": "python",
   "name": "python3"
  },
  "language_info": {
   "codemirror_mode": {
    "name": "ipython",
    "version": 3
   },
   "file_extension": ".py",
   "mimetype": "text/x-python",
   "name": "python",
   "nbconvert_exporter": "python",
   "pygments_lexer": "ipython3",
   "version": "3.9.7"
  },
  "orig_nbformat": 4
 },
 "nbformat": 4,
 "nbformat_minor": 2
}
